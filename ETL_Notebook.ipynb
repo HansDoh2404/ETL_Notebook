{
 "cells": [
  {
   "cell_type": "code",
   "execution_count": 12,
   "id": "046f2adc-aef2-40a7-b621-db5564f15643",
   "metadata": {},
   "outputs": [],
   "source": [
    "##import required libraries\n",
    "from pyspark.sql import SparkSession\n",
    "\n",
    "\n",
    "##create spark session\n",
    "spark = SparkSession.builder.appName(\"Python Spark SQL basic example\").config(\"spark.driver.host\", \"localhost\").config('spark.driver.extraClassPath', \"C:/Users/HanSAriEle/Downloads/postgresql-42.7.3.jar\").config('spark.master', 'local[*]').getOrCreate()\n",
    "\n",
    "##read movies table from db using spark\n",
    "def extract_movies_to_df():\n",
    "    movies_df = spark.read \\\n",
    "        .format(\"jdbc\") \\\n",
    "        .option(\"url\", \"jdbc:postgresql://localhost:5432/films\") \\\n",
    "        .option(\"dbtable\", \"movie\") \\\n",
    "        .option(\"user\", \"postgres\") \\\n",
    "        .option(\"password\", \"ha__ns\") \\\n",
    "        .option(\"driver\", \"org.postgresql.Driver\") \\\n",
    "        .load()\n",
    "    return movies_df\n",
    "\n",
    "##read users table from db using spark\n",
    "def extract_users_to_df():\n",
    "    users_df = spark.read \\\n",
    "        .format(\"jdbc\") \\\n",
    "        .option(\"url\", \"jdbc:postgresql://localhost:5432/films\") \\\n",
    "        .option(\"dbtable\", \"users\") \\\n",
    "        .option(\"user\", \"postgres\") \\\n",
    "        .option(\"password\", \"ha__ns\") \\\n",
    "        .option(\"driver\", \"org.postgresql.Driver\") \\\n",
    "        .load()\n",
    "    return users_df\n",
    "\n",
    "\n",
    "def transform_avg_ratings(movies_df, users_df):\n",
    "    ## transforming tables\n",
    "    avg_rating = users_df.groupBy(\"movie_id\").mean(\"rating\")\n",
    "    df = movies_df.join(\n",
    "    avg_rating,\n",
    "    movies_df.id == avg_rating.movie_id\n",
    "    )\n",
    "    df = df.drop(\"movie_id\")\n",
    "    return df\n",
    "\n",
    "\n",
    "##load transformed dataframe to the database\n",
    "def load_df_to_db(df):\n",
    "    mode = \"overwrite\"\n",
    "    url = \"jdbc:postgresql://localhost:5432/films\"\n",
    "    properties = {\"user\": \"postgres\",\n",
    "                  \"password\": \"ha__ns\",\n",
    "                  \"driver\": \"org.postgresql.Driver\"\n",
    "                  }\n",
    "    df.write.jdbc(url=url,\n",
    "                  table = \"avg_ratings\",\n",
    "                  mode = mode,\n",
    "                  properties = properties)\n",
    "\n",
    "if __name__ == \"__main__\":\n",
    "    movies_df = extract_movies_to_df()\n",
    "    users_df = extract_users_to_df()\n",
    "    ratings_df = transform_avg_ratings(movies_df, users_df)\n",
    "    load_df_to_db(ratings_df)\n"
   ]
  },
  {
   "cell_type": "code",
   "execution_count": 13,
   "id": "bdb73e53-9f1a-4d00-893f-b0aa9cc22303",
   "metadata": {},
   "outputs": [
    {
     "data": {
      "text/plain": [
       "DataFrame[id: int, name: string, description: string, category: string, avg(rating): decimal(38,22)]"
      ]
     },
     "execution_count": 13,
     "metadata": {},
     "output_type": "execute_result"
    }
   ],
   "source": [
    "transform_avg_ratings(movies_df, users_df)"
   ]
  },
  {
   "cell_type": "code",
   "execution_count": 14,
   "id": "e0f8c26f-5f0c-4b30-b8cf-36444b44de99",
   "metadata": {},
   "outputs": [
    {
     "data": {
      "text/plain": [
       "<Task(PythonOperator): etl_task>"
      ]
     },
     "execution_count": 14,
     "metadata": {},
     "output_type": "execute_result"
    }
   ],
   "source": [
    "import pendulum\n",
    "import airflow \n",
    "from airflow.operators.python import PythonOperator\n",
    "from airflow.models import DAG\n",
    "from datetime import datetime, timedelta\n",
    "\n",
    "## define the etl function\n",
    "def etl() :\n",
    "    movies_df = extract_movies_to_df()\n",
    "    users_df = extract_users_to_df()\n",
    "    transformed_df = transform_avg_ratings(movies_df, users_df)\n",
    "    load_df_to_db(transformed_df)\n",
    "\n",
    "## define the arguments for the DAG\n",
    "default_args = {\n",
    "    'start_date': pendulum.today('UTC').add(days=-1),\n",
    "    'owner': 'hansari',\n",
    "    'depends_on_past': True,\n",
    "    'email': ['hansearieldo@gmail.com'],\n",
    "    'email_on_failure': True,\n",
    "    'email_on_retry': False,\n",
    "    'retries': 3,\n",
    "    'retry_delay': timedelta(minutes=30),\n",
    "}\n",
    "\n",
    "## instantiate the DAG\n",
    "dag = DAG(dag_id = \"films\",\n",
    "          default_args = default_args,\n",
    "          schedule = \"0 0 * * *\")\n",
    "\n",
    "## define the etl task\n",
    "etl_task = PythonOperator(task_id = \"etl_task\",\n",
    "                          python_callable = etl,\n",
    "                          dag = dag)\n",
    "\n",
    "etl_task"
   ]
  },
  {
   "cell_type": "code",
   "execution_count": null,
   "id": "58baecd8-341c-4a18-a0d1-262889bd4364",
   "metadata": {},
   "outputs": [],
   "source": [
    "pip install apache-airflow"
   ]
  },
  {
   "cell_type": "code",
   "execution_count": null,
   "id": "0776832d-b7a0-4690-884b-189c304d40cb",
   "metadata": {},
   "outputs": [],
   "source": [
    "pip install waitress"
   ]
  },
  {
   "cell_type": "code",
   "execution_count": null,
   "id": "dc114c44-4e43-497a-9ce3-2b8156917424",
   "metadata": {},
   "outputs": [],
   "source": [
    "pip install pendulum"
   ]
  },
  {
   "cell_type": "code",
   "execution_count": null,
   "id": "6d25cf6f-bb85-4459-b53a-e24621619a44",
   "metadata": {},
   "outputs": [],
   "source": []
  }
 ],
 "metadata": {
  "kernelspec": {
   "display_name": "Python 3 (ipykernel)",
   "language": "python",
   "name": "python3"
  },
  "language_info": {
   "codemirror_mode": {
    "name": "ipython",
    "version": 3
   },
   "file_extension": ".py",
   "mimetype": "text/x-python",
   "name": "python",
   "nbconvert_exporter": "python",
   "pygments_lexer": "ipython3",
   "version": "3.11.5"
  }
 },
 "nbformat": 4,
 "nbformat_minor": 5
}
